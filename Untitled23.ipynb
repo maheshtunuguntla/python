{
 "cells": [
  {
   "cell_type": "code",
   "execution_count": 1,
   "id": "2cfb79f7-ab0b-46c5-bf63-5ef23b3437be",
   "metadata": {},
   "outputs": [
    {
     "name": "stdout",
     "output_type": "stream",
     "text": [
      "raising exception....\n",
      "exceeption caught\n",
      "performing clean up with finally\n"
     ]
    }
   ],
   "source": [
    "#try with finally\n",
    "try:\n",
    "    print(\"raising exception....\")\n",
    "    raise ValueError\n",
    "except:\n",
    "    print(\"exceeption caught\")\n",
    "finally:\n",
    "    print(\"performing clean up with finally\")\n",
    "    "
   ]
  },
  {
   "cell_type": "code",
   "execution_count": 9,
   "id": "0343db66-3e2d-4c13-ae42-3f0f0aee621e",
   "metadata": {},
   "outputs": [
    {
     "name": "stdout",
     "output_type": "stream",
     "text": [
      "dividing two strings\n",
      "0.5\n",
      "this is for finally block which execute every time\n"
     ]
    }
   ],
   "source": [
    "''' program having finally block to re raise the exception that will be handled by an outer try \n",
    "except block'''\n",
    "try:\n",
    "    print(\"dividing two strings\")\n",
    "    try:\n",
    "        quo=1/2\n",
    "        print(quo)\n",
    "    finally:\n",
    "        print(\"this is for finally block which execute every time\")\n",
    "except TypeError:\n",
    "    print(\"here the type error is handled whuch is rise in the inner try\")\n",
    "    \n",
    "        "
   ]
  },
  {
   "cell_type": "code",
   "execution_count": 11,
   "id": "16e732f8-4158-439e-b11c-1f673574ffbf",
   "metadata": {},
   "outputs": [
    {
     "name": "stdout",
     "output_type": "stream",
     "text": [
      "file does not exist\n"
     ]
    },
    {
     "ename": "FileNotFoundError",
     "evalue": "[Errno 2] No such file or directory: 'abcdef.txt'",
     "output_type": "error",
     "traceback": [
      "\u001b[1;31m---------------------------------------------------------------------------\u001b[0m",
      "\u001b[1;31mFileNotFoundError\u001b[0m                         Traceback (most recent call last)",
      "Cell \u001b[1;32mIn[11], line 2\u001b[0m\n\u001b[0;32m      1\u001b[0m \u001b[38;5;28;01mtry\u001b[39;00m:\n\u001b[1;32m----> 2\u001b[0m     f\u001b[38;5;241m=\u001b[39m\u001b[38;5;28mopen\u001b[39m(\u001b[38;5;124m\"\u001b[39m\u001b[38;5;124mabcdef.txt\u001b[39m\u001b[38;5;124m\"\u001b[39m)\n\u001b[0;32m      3\u001b[0m \u001b[38;5;28;01mexcept\u001b[39;00m:\n\u001b[0;32m      4\u001b[0m     \u001b[38;5;28mprint\u001b[39m(\u001b[38;5;124m\"\u001b[39m\u001b[38;5;124mfile does not exist\u001b[39m\u001b[38;5;124m\"\u001b[39m)\n",
      "File \u001b[1;32mC:\\ProgramData\\anaconda3\\Lib\\site-packages\\IPython\\core\\interactiveshell.py:324\u001b[0m, in \u001b[0;36m_modified_open\u001b[1;34m(file, *args, **kwargs)\u001b[0m\n\u001b[0;32m    317\u001b[0m \u001b[38;5;28;01mif\u001b[39;00m file \u001b[38;5;129;01min\u001b[39;00m {\u001b[38;5;241m0\u001b[39m, \u001b[38;5;241m1\u001b[39m, \u001b[38;5;241m2\u001b[39m}:\n\u001b[0;32m    318\u001b[0m     \u001b[38;5;28;01mraise\u001b[39;00m \u001b[38;5;167;01mValueError\u001b[39;00m(\n\u001b[0;32m    319\u001b[0m         \u001b[38;5;124mf\u001b[39m\u001b[38;5;124m\"\u001b[39m\u001b[38;5;124mIPython won\u001b[39m\u001b[38;5;124m'\u001b[39m\u001b[38;5;124mt let you open fd=\u001b[39m\u001b[38;5;132;01m{\u001b[39;00mfile\u001b[38;5;132;01m}\u001b[39;00m\u001b[38;5;124m by default \u001b[39m\u001b[38;5;124m\"\u001b[39m\n\u001b[0;32m    320\u001b[0m         \u001b[38;5;124m\"\u001b[39m\u001b[38;5;124mas it is likely to crash IPython. If you know what you are doing, \u001b[39m\u001b[38;5;124m\"\u001b[39m\n\u001b[0;32m    321\u001b[0m         \u001b[38;5;124m\"\u001b[39m\u001b[38;5;124myou can use builtins\u001b[39m\u001b[38;5;124m'\u001b[39m\u001b[38;5;124m open.\u001b[39m\u001b[38;5;124m\"\u001b[39m\n\u001b[0;32m    322\u001b[0m     )\n\u001b[1;32m--> 324\u001b[0m \u001b[38;5;28;01mreturn\u001b[39;00m io_open(file, \u001b[38;5;241m*\u001b[39margs, \u001b[38;5;241m*\u001b[39m\u001b[38;5;241m*\u001b[39mkwargs)\n",
      "\u001b[1;31mFileNotFoundError\u001b[0m: [Errno 2] No such file or directory: 'abcdef.txt'"
     ]
    }
   ],
   "source": [
    "try:\n",
    "    f=open(\"abcdef.txt\")\n",
    "except:\n",
    "    print(\"file does not exist\")\n",
    "    raise "
   ]
  },
  {
   "cell_type": "code",
   "execution_count": 13,
   "id": "c90b2faf-d0a1-423e-8c01-0509db778470",
   "metadata": {
    "scrolled": true
   },
   "outputs": [
    {
     "name": "stdin",
     "output_type": "stream",
     "text": [
      "enter the temp in celcius 40\n"
     ]
    },
    {
     "ename": "AssertionError",
     "evalue": "its freezing",
     "output_type": "error",
     "traceback": [
      "\u001b[1;31m---------------------------------------------------------------------------\u001b[0m",
      "\u001b[1;31mAssertionError\u001b[0m                            Traceback (most recent call last)",
      "Cell \u001b[1;32mIn[13], line 4\u001b[0m\n\u001b[0;32m      2\u001b[0m c\u001b[38;5;241m=\u001b[39m\u001b[38;5;28mint\u001b[39m(\u001b[38;5;28minput\u001b[39m(\u001b[38;5;124m\"\u001b[39m\u001b[38;5;124menter the temp in celcius\u001b[39m\u001b[38;5;124m\"\u001b[39m))\n\u001b[0;32m      3\u001b[0m f\u001b[38;5;241m=\u001b[39m(c\u001b[38;5;241m*\u001b[39m\u001b[38;5;241m9\u001b[39m\u001b[38;5;241m/\u001b[39m\u001b[38;5;241m5\u001b[39m)\u001b[38;5;241m+\u001b[39m\u001b[38;5;241m32\u001b[39m\n\u001b[1;32m----> 4\u001b[0m \u001b[38;5;28;01massert\u001b[39;00m (f\u001b[38;5;241m<\u001b[39m\u001b[38;5;241m=\u001b[39m\u001b[38;5;241m32\u001b[39m), \u001b[38;5;124m\"\u001b[39m\u001b[38;5;124mits freezing\u001b[39m\u001b[38;5;124m\"\u001b[39m\n\u001b[0;32m      5\u001b[0m \u001b[38;5;28mprint\u001b[39m(\u001b[38;5;124m\"\u001b[39m\u001b[38;5;124mtemperature in farenheit=\u001b[39m\u001b[38;5;124m\"\u001b[39m,f)\n",
      "\u001b[1;31mAssertionError\u001b[0m: its freezing"
     ]
    }
   ],
   "source": [
    "#assert statement \n",
    "c=int(input(\"enter the temp in celcius\"))\n",
    "f=(c*9/5)+32\n",
    "assert (f<=32), \"its freezing\"\n",
    "print(\"temperature in farenheit=\",f)\n",
    "f=open(\"abcdef.txt\")\n",
    "\n"
   ]
  },
  {
   "cell_type": "code",
   "execution_count": 15,
   "id": "e1ff8dd3-979b-4ceb-a28a-8ea2bba156b1",
   "metadata": {},
   "outputs": [
    {
     "name": "stdin",
     "output_type": "stream",
     "text": [
      "enter the number \n"
     ]
    },
    {
     "ename": "ValueError",
     "evalue": "invalid literal for int() with base 10: ''",
     "output_type": "error",
     "traceback": [
      "\u001b[1;31m---------------------------------------------------------------------------\u001b[0m",
      "\u001b[1;31mValueError\u001b[0m                                Traceback (most recent call last)",
      "Cell \u001b[1;32mIn[15], line 3\u001b[0m\n\u001b[0;32m      1\u001b[0m \u001b[38;5;124;03m''' write a program that prompts the user to enter a number and print its square  exceptional handling for key boaard interupt '''\u001b[39;00m\n\u001b[1;32m----> 3\u001b[0m num\u001b[38;5;241m=\u001b[39m\u001b[38;5;28mint\u001b[39m(\u001b[38;5;28minput\u001b[39m(\u001b[38;5;124m\"\u001b[39m\u001b[38;5;124menter the number\u001b[39m\u001b[38;5;124m\"\u001b[39m))\n\u001b[0;32m      4\u001b[0m \u001b[38;5;28;01mtry\u001b[39;00m:\n\u001b[0;32m      5\u001b[0m     output\u001b[38;5;241m=\u001b[39mnum\u001b[38;5;241m*\u001b[39mnum\n",
      "\u001b[1;31mValueError\u001b[0m: invalid literal for int() with base 10: ''"
     ]
    }
   ],
   "source": [
    "''' write a program that prompts the user to enter a number and print its square  exceptional handling for key boaard interupt '''\n",
    "\n",
    "num=int(input(\"enter the number\"))\n",
    "try:\n",
    "    output=num*num\n",
    "    print(output)\n",
    "except KeyboardError:\n",
    "    print(\"program has beenm interrupted\")"
   ]
  },
  {
   "cell_type": "code",
   "execution_count": 25,
   "id": "9853f0f0-3279-41cb-b21b-a83fa7687678",
   "metadata": {},
   "outputs": [
    {
     "name": "stdout",
     "output_type": "stream",
     "text": [
      "1 2 3 4 5 6 7 8 9 10 11 12 13 14 15 16 17 18 19 20 21 22 23 24 25 26 27 28 29 30 "
     ]
    }
   ],
   "source": [
    "'''program which infinity print natural numbers raise an exception after printing first 30 numbers exit the program '''\n",
    "n=0\n",
    "while True:\n",
    "    try:\n",
    "        n=n+1\n",
    "        if n==31:\n",
    "            raise StopIteration\n",
    "    except StopIteration:\n",
    "        break\n",
    "    else:\n",
    "        print(n,end=\" \")\n",
    "        \n",
    "\n",
    "        "
   ]
  },
  {
   "cell_type": "code",
   "execution_count": 31,
   "id": "f687cc51-ce84-4bee-af73-337b97fd6513",
   "metadata": {},
   "outputs": [
    {
     "name": "stdin",
     "output_type": "stream",
     "text": [
      " 5\n",
      " enter the element1 5\n",
      " enter the element2 6\n",
      " enter the element3 7\n",
      " enter the element4 8\n",
      " enter the element5 9\n",
      "enter index to access the element 6\n"
     ]
    },
    {
     "name": "stdout",
     "output_type": "stream",
     "text": [
      " error : index......... out of range\n"
     ]
    }
   ],
   "source": [
    "try:\n",
    "    size=int(input())\n",
    "    user_list=[]\n",
    "    for i in range(size):\n",
    "        val=int(input(f\" enter the element{i+1}\"))\n",
    "        user_list.append(val)\n",
    "    index=int(input(\"enter index to access the element\"))\n",
    "    print(\"element at index\", index,\"is \",user_list[index])\n",
    "except ValueError:\n",
    "    print(\"error:please enter only integers\")\n",
    "except IndexError:    \n",
    "    print(\" error : index......... out of range\")"
   ]
  },
  {
   "cell_type": "code",
   "execution_count": null,
   "id": "ca35e7ba-38e4-48f1-a1e1-df8cfda9c274",
   "metadata": {},
   "outputs": [],
   "source": []
  }
 ],
 "metadata": {
  "kernelspec": {
   "display_name": "Python 3 (ipykernel)",
   "language": "python",
   "name": "python3"
  },
  "language_info": {
   "codemirror_mode": {
    "name": "ipython",
    "version": 3
   },
   "file_extension": ".py",
   "mimetype": "text/x-python",
   "name": "python",
   "nbconvert_exporter": "python",
   "pygments_lexer": "ipython3",
   "version": "3.12.7"
  }
 },
 "nbformat": 4,
 "nbformat_minor": 5
}
