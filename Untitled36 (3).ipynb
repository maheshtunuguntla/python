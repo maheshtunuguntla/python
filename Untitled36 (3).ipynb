{
 "cells": [
  {
   "cell_type": "code",
   "execution_count": 7,
   "id": "ce9aa809-f212-4e67-94c7-f7b6aa242edf",
   "metadata": {},
   "outputs": [
    {
     "name": "stdin",
     "output_type": "stream",
     "text": [
      "enter any character a\n",
      "enter anu=y char: v\n",
      "enter anu=y char: 1\n",
      "enter anu=y char: 2\n",
      "enter anu=y char: 3\n",
      "enter anu=y char: Z\n",
      "enter anu=y char: *\n"
     ]
    },
    {
     "name": "stdout",
     "output_type": "stream",
     "text": [
      "lowwer char 2\n",
      "upper chartr 1\n",
      "number char 3\n"
     ]
    }
   ],
   "source": [
    "ch=input(\"enter any character\")\n",
    "n=l=u=0\n",
    "if ch>='0' and ch<='9':\n",
    "    n+=1\n",
    "elif ch>='a' and ch<='z':\n",
    "    l+=1\n",
    "elif ch>='A' and ch<='Z':\n",
    "    u+=1\n",
    "while ch!='*':\n",
    "    ch=input(\"enter anu=y char:\")\n",
    "    if ch>='0' and ch<='9':\n",
    "         n+=1\n",
    "    elif ch>='a' and ch<='z':\n",
    "         l+=1\n",
    "    elif ch>='A' and ch<='Z':\n",
    "         u+=1\n",
    "print(\"lowwer char\",l)\n",
    "print(\"upper chartr\",u)\n",
    "print(\"number char\",n)"
   ]
  },
  {
   "cell_type": "code",
   "execution_count": 13,
   "id": "c5066169-83b3-4911-aa2e-ba33542db313",
   "metadata": {},
   "outputs": [
    {
     "name": "stdout",
     "output_type": "stream",
     "text": [
      "0 1 2 3 4 5 6 7 8 9 "
     ]
    }
   ],
   "source": [
    "for i in range(10):\n",
    "    print(i,end=' ')"
   ]
  },
  {
   "cell_type": "code",
   "execution_count": 25,
   "id": "74ed3432-4718-445d-8813-db9e2cdb230f",
   "metadata": {},
   "outputs": [
    {
     "name": "stdin",
     "output_type": "stream",
     "text": [
      " 2\n"
     ]
    },
    {
     "name": "stdout",
     "output_type": "stream",
     "text": [
      "1 2 "
     ]
    }
   ],
   "source": [
    "n=int(input())\n",
    "for i in range(1,n+1):\n",
    "    print(i,end=' ')"
   ]
  },
  {
   "cell_type": "code",
   "execution_count": 41,
   "id": "2187d017-24c4-4dac-a5de-a4c8c3a38ced",
   "metadata": {},
   "outputs": [
    {
     "name": "stdin",
     "output_type": "stream",
     "text": [
      " 2\n"
     ]
    },
    {
     "name": "stdout",
     "output_type": "stream",
     "text": [
      "2*0=0\n",
      "2*1=2\n",
      "2*2=4\n",
      "2*3=6\n",
      "2*4=8\n",
      "2*5=10\n",
      "2*6=12\n",
      "2*7=14\n",
      "2*8=16\n",
      "2*9=18\n",
      "2*10=20\n"
     ]
    }
   ],
   "source": [
    "a=int(input())\n",
    "for i in range(11):\n",
    "    print(f\"{a}*{i}={a*i}\")"
   ]
  },
  {
   "cell_type": "code",
   "execution_count": null,
   "id": "77f7dd5a-b0c1-4f65-97ed-f25310afbb58",
   "metadata": {},
   "outputs": [],
   "source": []
  },
  {
   "cell_type": "code",
   "execution_count": null,
   "id": "44145bde-f871-4314-81ba-7b976f37f804",
   "metadata": {},
   "outputs": [],
   "source": []
  },
  {
   "cell_type": "code",
   "execution_count": 43,
   "id": "d199d3c7-297e-4397-9e03-b92d1d7c13a0",
   "metadata": {},
   "outputs": [
    {
     "name": "stdin",
     "output_type": "stream",
     "text": [
      " 2\n"
     ]
    },
    {
     "name": "stdout",
     "output_type": "stream",
     "text": [
      "2*0=0\n",
      "2*1=2\n",
      "2*2=4\n",
      "2*3=6\n",
      "2*4=8\n",
      "2*5=10\n",
      "2*6=12\n",
      "2*7=14\n",
      "2*8=16\n",
      "2*9=18\n",
      "2*10=20\n"
     ]
    }
   ],
   "source": [
    "a=int(input())\n",
    "for i in range(11):\n",
    "    print(f\"{a}*{i}={a*i}\")"
   ]
  },
  {
   "cell_type": "code",
   "execution_count": 49,
   "id": "c8b04ff2-5dc9-42c6-b2a4-c93eeacb974d",
   "metadata": {},
   "outputs": [
    {
     "name": "stdin",
     "output_type": "stream",
     "text": [
      " 1900\n",
      " 2101\n"
     ]
    },
    {
     "name": "stdout",
     "output_type": "stream",
     "text": [
      "1900 1904 1908 1912 1916 1920 1924 1928 1932 1936 1940 1944 1948 1952 1956 1960 1964 1968 1972 1976 1980 1984 1988 1992 1996 2000 2004 2008 2012 2016 2020 2024 2028 2032 2036 2040 2044 2048 2052 2056 2060 2064 2068 2072 2076 2080 2084 2088 2092 2096 2100 "
     ]
    }
   ],
   "source": [
    "#progrsm to display the leap year 1900 to2101\n",
    "st=int(input())\n",
    "ed=int(input())\n",
    "for i in range(st,ed+1):\n",
    "    if i%4==0:\n",
    "        print(i,end=' ')"
   ]
  },
  {
   "cell_type": "code",
   "execution_count": 57,
   "id": "ab782d2d-bada-4781-836b-a5f7e5beeeaf",
   "metadata": {},
   "outputs": [
    {
     "name": "stdin",
     "output_type": "stream",
     "text": [
      " 5\n"
     ]
    },
    {
     "name": "stdout",
     "output_type": "stream",
     "text": [
      "1.25\n"
     ]
    }
   ],
   "source": [
    "n-int(input())\n",
    "s=0\n",
    "for i in range(1,n+1):\n",
    "    s=s+(1/i**2)\n",
    "print(s)"
   ]
  },
  {
   "cell_type": "code",
   "execution_count": 69,
   "id": "8cc2f659-0e70-46fe-ace1-450a1560ed69",
   "metadata": {},
   "outputs": [
    {
     "name": "stdin",
     "output_type": "stream",
     "text": [
      "starting day of month 5\n",
      "enter the number of days 30\n"
     ]
    },
    {
     "name": "stdout",
     "output_type": "stream",
     "text": [
      "sun mon tue wed thu fri sat\n",
      "---------------------------\n",
      "                            1   2   3   4   \n",
      "5   6   7   8   9   10   11   12   \n",
      "13   14   15   16   17   18   19   20   \n",
      "21   22   23   24   25   26   27   28   \n",
      "29   30   "
     ]
    }
   ],
   "source": [
    "''' generating a calendar manually'''\n",
    "sday=int(input(\"starting day of month\"))\n",
    "ndays=int(input(\"enter the number of days\"))\n",
    "print(\"sun mon tue wed thu fri sat\")\n",
    "print(\"---------------------------\")\n",
    "for i in range(sday-1):\n",
    "    print(end=\"       \")\n",
    "i=sday-1\n",
    "for j in range(1,ndays+1):\n",
    "    if(i>7):\n",
    "        print()\n",
    "        i=1\n",
    "    else:\n",
    "        i+=1\n",
    "    print(str(j) + \"  \",end=' ')"
   ]
  },
  {
   "cell_type": "code",
   "execution_count": null,
   "id": "c289bba2-637b-4beb-b8be-e770a143bd4f",
   "metadata": {},
   "outputs": [],
   "source": []
  }
 ],
 "metadata": {
  "kernelspec": {
   "display_name": "Python 3 (ipykernel)",
   "language": "python",
   "name": "python3"
  },
  "language_info": {
   "codemirror_mode": {
    "name": "ipython",
    "version": 3
   },
   "file_extension": ".py",
   "mimetype": "text/x-python",
   "name": "python",
   "nbconvert_exporter": "python",
   "pygments_lexer": "ipython3",
   "version": "3.12.7"
  }
 },
 "nbformat": 4,
 "nbformat_minor": 5
}
