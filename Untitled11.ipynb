{
 "cells": [
  {
   "cell_type": "code",
   "execution_count": 3,
   "id": "cdda1d60-61a2-4320-9e18-49a15f866238",
   "metadata": {},
   "outputs": [
    {
     "name": "stdin",
     "output_type": "stream",
     "text": [
      "enter the size of n 4\n"
     ]
    },
    {
     "name": "stdout",
     "output_type": "stream",
     "text": [
      "^ ^ ^ ^ \n",
      "^ ^ ^ ^ \n",
      "^ ^ ^ ^ \n",
      "^ ^ ^ ^ \n"
     ]
    }
   ],
   "source": [
    "#nested loops\n",
    "n=int(input(\"enter the size of n\"))\n",
    "for i in range(n):\n",
    "    for j in range(n):\n",
    "        print('^',end=' ')\n",
    "    print()"
   ]
  },
  {
   "cell_type": "code",
   "execution_count": 5,
   "id": "9c5bb180-e776-4034-a2b1-4e7aaa90bbb8",
   "metadata": {},
   "outputs": [
    {
     "name": "stdin",
     "output_type": "stream",
     "text": [
      " 6\n"
     ]
    },
    {
     "name": "stdout",
     "output_type": "stream",
     "text": [
      "\n",
      "* \n",
      "* * \n",
      "* * * \n",
      "* * * * \n",
      "* * * * * \n"
     ]
    }
   ],
   "source": [
    "# right angle triangle\n",
    "n=int(input())\n",
    "for i in range(n):\n",
    "    for j in range(i):\n",
    "        print('*',end=' ')\n",
    "    print()"
   ]
  },
  {
   "cell_type": "code",
   "execution_count": 9,
   "id": "b52f3206-e2d3-4d97-a8fc-928b16858900",
   "metadata": {},
   "outputs": [
    {
     "name": "stdout",
     "output_type": "stream",
     "text": [
      "\n",
      "*\n",
      "**\n",
      "***\n",
      "****\n"
     ]
    }
   ],
   "source": [
    "# right angle triangle using single for loop\n",
    "for i in range(5):\n",
    "    print('*'*i)"
   ]
  },
  {
   "cell_type": "code",
   "execution_count": 11,
   "id": "5a9beed5-a3f7-4b20-abde-b2f61224deb3",
   "metadata": {},
   "outputs": [
    {
     "name": "stdout",
     "output_type": "stream",
     "text": [
      "*****\n",
      "*****\n",
      "*****\n",
      "*****\n",
      "*****\n"
     ]
    }
   ],
   "source": [
    "#square using single for loop\n",
    "for i in range(5):\n",
    "    print('*'*5)"
   ]
  },
  {
   "cell_type": "code",
   "execution_count": 17,
   "id": "166465b6-943a-49be-8e2a-bc8365c8e7f6",
   "metadata": {},
   "outputs": [
    {
     "name": "stdin",
     "output_type": "stream",
     "text": [
      " 5\n"
     ]
    },
    {
     "name": "stdout",
     "output_type": "stream",
     "text": [
      "* * * * * \n",
      "*       * \n",
      "*       * \n",
      "*       * \n",
      "* * * * * \n"
     ]
    }
   ],
   "source": [
    "n=int(input())\n",
    "for i in range(n):\n",
    "    for j in range(n):\n",
    "        if i==0 or i==n-1 or j==0 or j==n-1:\n",
    "            print('*',end=' ')\n",
    "        else:\n",
    "            print(' ',end=' ')\n",
    "    print()"
   ]
  },
  {
   "cell_type": "code",
   "execution_count": 25,
   "id": "89e5d7c7-dd69-4a4f-abe0-51e42b85b609",
   "metadata": {},
   "outputs": [
    {
     "name": "stdout",
     "output_type": "stream",
     "text": [
      "m \n",
      "m a \n",
      "m a h \n",
      "m a h e \n",
      "m a h e s \n",
      "m a h e s h \n"
     ]
    }
   ],
   "source": [
    "text='mahesh'\n",
    "r=len(text)\n",
    "for i in range(r):\n",
    "    for j in range(i+1):\n",
    "        print(text[j],end=' ')\n",
    "    print()"
   ]
  },
  {
   "cell_type": "code",
   "execution_count": 36,
   "id": "5956b42b-25d8-41e0-bd06-189ccb426f6b",
   "metadata": {},
   "outputs": [
    {
     "name": "stdin",
     "output_type": "stream",
     "text": [
      " 5\n"
     ]
    },
    {
     "name": "stdout",
     "output_type": "stream",
     "text": [
      "* * * * * \n",
      "* *     * \n",
      "*   *   * \n",
      "*     * * \n",
      "* * * * * \n"
     ]
    }
   ],
   "source": [
    "# square with  single diagonal\n",
    "n=int(input())\n",
    "for i in range(n):\n",
    "    for j in range(n):\n",
    "        if i==0 or i==n-1 or j==0 or j==n-1 or i==j:\n",
    "            print('*',end=' ')\n",
    "        else:\n",
    "            print(' ',end=' ')\n",
    "    print()"
   ]
  },
  {
   "cell_type": "code",
   "execution_count": 38,
   "id": "047b2748-5dc4-4793-b8f5-8351def295c0",
   "metadata": {},
   "outputs": [
    {
     "name": "stdin",
     "output_type": "stream",
     "text": [
      " 5\n"
     ]
    },
    {
     "name": "stdout",
     "output_type": "stream",
     "text": [
      "* * * * * \n",
      "* *   * * \n",
      "*   *   * \n",
      "* *   * * \n",
      "* * * * * \n"
     ]
    }
   ],
   "source": [
    "# square with double diagonal\n",
    "n=int(input())\n",
    "for i in range(n):\n",
    "    for j in range(n):\n",
    "        if i==0 or i==n-1 or j==0 or j==n-1 or i==j or i+j==n-1:\n",
    "            print('*',end=' ')\n",
    "        else:\n",
    "            print(' ',end=' ')\n",
    "    print()"
   ]
  },
  {
   "cell_type": "code",
   "execution_count": 40,
   "id": "38871200-90a5-4d8c-b2f2-d5f517cbc16b",
   "metadata": {},
   "outputs": [
    {
     "name": "stdin",
     "output_type": "stream",
     "text": [
      " 5\n"
     ]
    },
    {
     "name": "stdout",
     "output_type": "stream",
     "text": [
      "*       * \n",
      "* *   * * \n",
      "*   *   * \n",
      "* *   * * \n",
      "*       * \n"
     ]
    }
   ],
   "source": [
    "n=int(input())\n",
    "for i in range(n):\n",
    "    for j in range(n):\n",
    "        if j==0 or j==n-1 or j==0 or j==n-1 or i==j or i+j==n-1:\n",
    "            print('*',end=' ')\n",
    "        else:\n",
    "            print(' ',end=' ')\n",
    "    print()"
   ]
  },
  {
   "cell_type": "code",
   "execution_count": 42,
   "id": "cdb785c1-6918-49e5-b237-4eea54f2cbb0",
   "metadata": {},
   "outputs": [
    {
     "name": "stdin",
     "output_type": "stream",
     "text": [
      " 5\n"
     ]
    },
    {
     "name": "stdout",
     "output_type": "stream",
     "text": [
      "* * * * * \n",
      "  *   *   \n",
      "    *     \n",
      "  *   *   \n",
      "* * * * * \n"
     ]
    }
   ],
   "source": [
    "n=int(input())\n",
    "for i in range(n):\n",
    "    for j in range(n):\n",
    "        if i==0 or i==n-1 or i==0 or i==n-1 or i==j or i+j==n-1:\n",
    "            print('*',end=' ')\n",
    "        else:\n",
    "            print(' ',end=' ')\n",
    "    print()"
   ]
  },
  {
   "cell_type": "code",
   "execution_count": 51,
   "id": "e8f63edf-b072-42e5-9c0a-62375eb40d8c",
   "metadata": {},
   "outputs": [
    {
     "name": "stdin",
     "output_type": "stream",
     "text": [
      " 5\n"
     ]
    },
    {
     "name": "stdout",
     "output_type": "stream",
     "text": [
      "* * * * * \n",
      "* * * * \n",
      "* * * \n",
      "* * \n",
      "* \n"
     ]
    }
   ],
   "source": [
    "n=int(input())\n",
    "for i in range(n):\n",
    "    for j in range(n-i):\n",
    "        print('*',end=' ')\n",
    "    print()"
   ]
  },
  {
   "cell_type": "code",
   "execution_count": 59,
   "id": "6805881f-43aa-4a31-afd2-4d882bb4d003",
   "metadata": {},
   "outputs": [
    {
     "name": "stdout",
     "output_type": "stream",
     "text": [
      "* \n",
      "* * \n",
      "* * * \n",
      "* * * * \n",
      "* * * * * \n",
      "* * * * \n",
      "* * * \n",
      "* * \n",
      "* \n"
     ]
    }
   ],
   "source": [
    "n=5\n",
    "for i in range(1,2*n):\n",
    "    s=i if i<=n else 2*n-i\n",
    "    for j in range(s):\n",
    "        print('*',end=' ')\n",
    "    print()"
   ]
  },
  {
   "cell_type": "code",
   "execution_count": 3,
   "id": "99cbe055-e54d-4597-bb40-e48634840252",
   "metadata": {},
   "outputs": [
    {
     "name": "stdout",
     "output_type": "stream",
     "text": [
      "        * \n",
      "      * * * \n",
      "    * * * * * \n",
      "  * * * * * * * \n",
      "* * * * * * * * * \n"
     ]
    }
   ],
   "source": [
    "n=5\n",
    "for i in range(1,n+1):\n",
    "    for s in range(n-i):\n",
    "        print(' ', end=' ')\n",
    "    for st in range(2*i-1):\n",
    "        print('*',end=' ')\n",
    "    print()\n"
   ]
  },
  {
   "cell_type": "code",
   "execution_count": 17,
   "id": "c6d04315-3227-462b-9908-bc6c65a1cb25",
   "metadata": {},
   "outputs": [
    {
     "name": "stdout",
     "output_type": "stream",
     "text": [
      "                           1    \n",
      "                        1    1    \n",
      "                     1    2    1    \n",
      "                  1    3    3    1    \n",
      "               1    4    6    4    1    \n",
      "            1    5    10    10    5    1    \n",
      "         1    6    15    20    15    6    1    \n",
      "      1    7    21    35    35    21    7    1    \n",
      "   1    8    28    56    70    56    28    8    1    \n",
      "1    9    36    84    126    126    84    36    9    1    \n"
     ]
    }
   ],
   "source": [
    "n=10\n",
    "for i in range(n):\n",
    "    for s in range(n-i-1):\n",
    "        print(' ', end='  ')\n",
    "    num=1\n",
    "    for j in range(i+1):\n",
    "        print(f\"{num} \",end='   ')\n",
    "        num=num*(i-j)//(j+1)\n",
    "    print()\n"
   ]
  },
  {
   "cell_type": "code",
   "execution_count": 3,
   "id": "aabc724d-2ef4-42c9-b308-43cb583f38c9",
   "metadata": {},
   "outputs": [
    {
     "name": "stdout",
     "output_type": "stream",
     "text": [
      "1 \n",
      "2 3 \n",
      "4 5 6 \n",
      "7 8 9 10 \n"
     ]
    }
   ],
   "source": [
    "#floyds triangle\n",
    "a=1\n",
    "for i in range(1,5):\n",
    "    for j in range(i):\n",
    "        print(a,end=' ')\n",
    "        a+=1\n",
    "    print()"
   ]
  },
  {
   "cell_type": "code",
   "execution_count": 4,
   "id": "f08f9a88-c19f-43e8-bf3a-705c574aaee8",
   "metadata": {},
   "outputs": [
    {
     "name": "stdout",
     "output_type": "stream",
     "text": [
      "     *\n",
      "    **\n",
      "   ***\n",
      "  ****\n",
      " *****\n"
     ]
    }
   ],
   "source": [
    "n=5\n",
    "for i in range(1,n+1):\n",
    "    print(' '*(n-i), end=' ')\n",
    "    for j in range(i):\n",
    "        print('*', end='')\n",
    "    print()"
   ]
  },
  {
   "cell_type": "code",
   "execution_count": 22,
   "id": "f051ed5a-e0fd-4b9f-a1cb-f84e34244113",
   "metadata": {},
   "outputs": [
    {
     "name": "stdout",
     "output_type": "stream",
     "text": [
      "    * \n",
      "   * * \n",
      "  * * * \n",
      " * * * * \n",
      "* * * * * \n",
      " * * * * \n",
      "  * * * \n",
      "   * * \n",
      "    * \n"
     ]
    }
   ],
   "source": [
    "for i in range(1,n+1):\n",
    "    print(' '*(n-i), end='')\n",
    "    for j in range(i):\n",
    "        print('* ', end='')\n",
    "    print()\n",
    "for i in range(n-1,0,-1):\n",
    "    print(' '*(n-i), end='')\n",
    "    for j in range(i):\n",
    "        print('* ' , end='')\n",
    "    print()"
   ]
  },
  {
   "cell_type": "code",
   "execution_count": null,
   "id": "0b2641d9-2b96-410a-8c40-0de2f1eb44f2",
   "metadata": {},
   "outputs": [],
   "source": []
  }
 ],
 "metadata": {
  "kernelspec": {
   "display_name": "Python 3 (ipykernel)",
   "language": "python",
   "name": "python3"
  },
  "language_info": {
   "codemirror_mode": {
    "name": "ipython",
    "version": 3
   },
   "file_extension": ".py",
   "mimetype": "text/x-python",
   "name": "python",
   "nbconvert_exporter": "python",
   "pygments_lexer": "ipython3",
   "version": "3.12.7"
  }
 },
 "nbformat": 4,
 "nbformat_minor": 5
}
