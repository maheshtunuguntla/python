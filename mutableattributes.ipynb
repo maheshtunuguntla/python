{
 "cells": [
  {
   "cell_type": "code",
   "execution_count": 1,
   "id": "5f9aeb7e-cf5f-4ea7-85cc-07d24f3b33ec",
   "metadata": {},
   "outputs": [
    {
     "name": "stdout",
     "output_type": "stream",
     "text": [
      "hi\n"
     ]
    }
   ],
   "source": [
    "print(\"hi\")"
   ]
  },
  {
   "cell_type": "code",
   "execution_count": 3,
   "id": "1d56872b-2d1a-4346-804c-19c7586c2939",
   "metadata": {},
   "outputs": [
    {
     "name": "stdout",
     "output_type": "stream",
     "text": [
      "even mutable list [32, 54]\n",
      "odd mutable list [21, 43, 65]\n"
     ]
    }
   ],
   "source": [
    "'''mutable type attributes\n",
    "code to illustrate multiple attributes by calling a class for its\n",
    "specifications\n",
    "for example n=21,32,43,54,65\n",
    "even list=[32,54]\n",
    "odd list=[21,43,65]'''\n",
    "class number:\n",
    "    evens=[]\n",
    "    odds=[]\n",
    "    def __init__(self,num):\n",
    "        self.num=num\n",
    "        if num%2==0:\n",
    "            number.evens.append(num)\n",
    "        else:\n",
    "            number.odds.append(num)\n",
    "n1=number(21)\n",
    "n2=number(32)\n",
    "n3=number(43)\n",
    "n4=number(54)\n",
    "n5=number(65)\n",
    "print(\"even mutable list\",number.evens)\n",
    "print(\"odd mutable list\",number.odds)\n"
   ]
  },
  {
   "cell_type": "code",
   "execution_count": 13,
   "id": "169f6677-1919-4482-a1e2-6947ef66e386",
   "metadata": {},
   "outputs": [
    {
     "name": "stdin",
     "output_type": "stream",
     "text": [
      "enter the number 3\n"
     ]
    },
    {
     "name": "stdout",
     "output_type": "stream",
     "text": [
      "given value : 3\n",
      "modified value 27\n",
      "given value : 27\n"
     ]
    }
   ],
   "source": [
    "def op(x):\n",
    "    return x**3\n",
    "class abc():\n",
    "    def __init__(self,val):\n",
    "        self.val=val\n",
    "    def display(self):\n",
    "        print(\"given value :\",self.val)\n",
    "    def modify(self):\n",
    "        self.val=op(self.val)\n",
    "        print(\"modified value\",self.val)\n",
    "n=int(input(\"enter the number\"))\n",
    "        \n",
    "o=abc(n)\n",
    "o.display()\n",
    "o.modify()\n",
    "o.display()\n"
   ]
  },
  {
   "cell_type": "code",
   "execution_count": 23,
   "id": "e8c68bc5-ab0c-4551-b77f-a9af693897cb",
   "metadata": {},
   "outputs": [
    {
     "name": "stdin",
     "output_type": "stream",
     "text": [
      " 10.1\n",
      " 10.2\n"
     ]
    },
    {
     "name": "stdout",
     "output_type": "stream",
     "text": [
      "object.__dict__- {'var1': 10.1, 'var2': 10.2}\n",
      "object.__doc__- None\n",
      " class name abc\n",
      "object.__module__- __main__\n",
      "class.__base__ <class 'object'>\n"
     ]
    }
   ],
   "source": [
    "class abc():\n",
    "    def __init__(self,var1,var2):\n",
    "        self.var1=var1\n",
    "        self.var2=var2\n",
    "    def display(self):\n",
    "        print(\"var1\",self.var1)\n",
    "        print(\"var2\",self.var2)\n",
    "        \n",
    "        \n",
    "n1=float(input())\n",
    "n2=float(input())\n",
    "o=abc(n1,n2)\n",
    "print(\"object.__dict__-\",o.__dict__)\n",
    "print(\"object.__doc__-\",o.__doc__)\n",
    "print(\" class name\",abc.__name__)\n",
    "print(\"object.__module__-\",o.__module__)\n",
    "print(\"class.__base__\",abc.__base__)\n"
   ]
  },
  {
   "cell_type": "code",
   "execution_count": 29,
   "id": "3d003fc1-73e8-4474-9c71-9bcafe558a1b",
   "metadata": {},
   "outputs": [
    {
     "name": "stdout",
     "output_type": "stream",
     "text": [
      "<class '__main__.A'>\n",
      "1704\n",
      "48\n"
     ]
    }
   ],
   "source": [
    "'''write to view the memory info in a class , which gives the \n",
    "type of the class ,size of the class object and size of the instance\n",
    "const:use packages-sys for size of the \n",
    "given value of the num=10\n",
    "class A:'''\n",
    "import sys\n",
    "class A:\n",
    "    num=10\n",
    "a=A()\n",
    "print(type(a))\n",
    "print(sys.getsizeof(A))\n",
    "print(sys.getsizeof(a))\n"
   ]
  },
  {
   "cell_type": "code",
   "execution_count": 37,
   "id": "aa537b78-ff63-4f53-b4fa-f620f4301166",
   "metadata": {},
   "outputs": [
    {
     "name": "stdin",
     "output_type": "stream",
     "text": [
      "enter the pin 1234\n"
     ]
    },
    {
     "name": "stdout",
     "output_type": "stream",
     "text": [
      "verified successfully\n",
      "indufficient balance\n"
     ]
    }
   ],
   "source": [
    "'''create class  atm pin and check the pin with user 1234\n",
    "define a function to with draw 2000 /- balance amount from account \n",
    "5999, if the amount is over the balance exit and check the for accesing the account \n",
    "....'''\n",
    "class ATM:\n",
    "    def __init__(self,pin,balance=5999):\n",
    "        self.correct_pin=\"1234\"\n",
    "        self.user_pin=pin\n",
    "        self.balance=balance\n",
    "    def check_pin(self):\n",
    "        if self.user_pin==self.correct_pin:\n",
    "            print(\"verified successfully\")\n",
    "            return True\n",
    "        else:\n",
    "            print(\"access denied\")\n",
    "            return False\n",
    "    def withdraw(self,amount):\n",
    "        if not self.check_pin():\n",
    "            return \n",
    "        if amount>self.balance:\n",
    "            print(\"insufficient balance\")\n",
    "        else:\n",
    "            self.balance-=amount\n",
    "            print(f\"{amount} withdrawn successfully\")\n",
    "            print(f\"remainimg balance {self.balance}\")\n",
    "user_pin_input=input(\"enter the pin\")\n",
    "atm=ATM(pin=user_pin_input)\n",
    "atm.withdraw(7000)\n",
    "\n"
   ]
  },
  {
   "cell_type": "code",
   "execution_count": 39,
   "id": "9676c54c-bd83-4e00-998e-0dce69293461",
   "metadata": {},
   "outputs": [
    {
     "name": "stdin",
     "output_type": "stream",
     "text": [
      "enter the 4 digit pin 1234\n",
      "enter the amount to debit 2500\n"
     ]
    },
    {
     "name": "stdout",
     "output_type": "stream",
     "text": [
      "2500 debited. remaining balance Rs.2500\n"
     ]
    }
   ],
   "source": [
    "class ATM:\n",
    "    def __init__(self):\n",
    "        self.balance=5000\n",
    "        self.pin=\"1234\"\n",
    "    def process(self):\n",
    "        user_pin=input(\"enter the 4 digit pin\")\n",
    "        if user_pin==self.pin:\n",
    "            amount=int(input(\"enter the amount to debit\"))\n",
    "            if amount<=self.balance:\n",
    "                self.balance-=amount\n",
    "                print(f\"{amount} debited. remaining balance Rs.{self.balance}\")\n",
    "            else:\n",
    "                print(\"insufficient funds!!!!!.transaction cancelled.\")\n",
    "        else:\n",
    "            print(\"pin incorrect\")\n",
    "atm=ATM()\n",
    "atm.process()"
   ]
  },
  {
   "cell_type": "code",
   "execution_count": null,
   "id": "88f6ab1a-9e9d-4e65-bab0-800357635e0c",
   "metadata": {},
   "outputs": [],
   "source": []
  }
 ],
 "metadata": {
  "kernelspec": {
   "display_name": "Python 3 (ipykernel)",
   "language": "python",
   "name": "python3"
  },
  "language_info": {
   "codemirror_mode": {
    "name": "ipython",
    "version": 3
   },
   "file_extension": ".py",
   "mimetype": "text/x-python",
   "name": "python",
   "nbconvert_exporter": "python",
   "pygments_lexer": "ipython3",
   "version": "3.12.7"
  }
 },
 "nbformat": 4,
 "nbformat_minor": 5
}
