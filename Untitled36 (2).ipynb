{
 "cells": [
  {
   "cell_type": "code",
   "execution_count": 7,
   "id": "ce9aa809-f212-4e67-94c7-f7b6aa242edf",
   "metadata": {},
   "outputs": [
    {
     "name": "stdin",
     "output_type": "stream",
     "text": [
      "enter any character a\n",
      "enter anu=y char: v\n",
      "enter anu=y char: 1\n",
      "enter anu=y char: 2\n",
      "enter anu=y char: 3\n",
      "enter anu=y char: Z\n",
      "enter anu=y char: *\n"
     ]
    },
    {
     "name": "stdout",
     "output_type": "stream",
     "text": [
      "lowwer char 2\n",
      "upper chartr 1\n",
      "number char 3\n"
     ]
    }
   ],
   "source": [
    "ch=input(\"enter any character\")\n",
    "n=l=u=0\n",
    "if ch>='0' and ch<='9':\n",
    "    n+=1\n",
    "elif ch>='a' and ch<='z':\n",
    "    l+=1\n",
    "elif ch>='A' and ch<='Z':\n",
    "    u+=1\n",
    "while ch!='*':\n",
    "    ch=input(\"enter anu=y char:\")\n",
    "    if ch>='0' and ch<='9':\n",
    "         n+=1\n",
    "    elif ch>='a' and ch<='z':\n",
    "         l+=1\n",
    "    elif ch>='A' and ch<='Z':\n",
    "         u+=1\n",
    "print(\"lowwer char\",l)\n",
    "print(\"upper chartr\",u)\n",
    "print(\"number char\",n)"
   ]
  },
  {
   "cell_type": "code",
   "execution_count": 13,
   "id": "c5066169-83b3-4911-aa2e-ba33542db313",
   "metadata": {},
   "outputs": [
    {
     "name": "stdout",
     "output_type": "stream",
     "text": [
      "0 1 2 3 4 5 6 7 8 9 "
     ]
    }
   ],
   "source": [
    "for i in range(10):\n",
    "    print(i,end=' ')"
   ]
  },
  {
   "cell_type": "code",
   "execution_count": 25,
   "id": "74ed3432-4718-445d-8813-db9e2cdb230f",
   "metadata": {},
   "outputs": [
    {
     "name": "stdin",
     "output_type": "stream",
     "text": [
      " 2\n"
     ]
    },
    {
     "name": "stdout",
     "output_type": "stream",
     "text": [
      "1 2 "
     ]
    }
   ],
   "source": [
    "n=int(input())\n",
    "for i in range(1,n+1):\n",
    "    print(i,end=' ')"
   ]
  },
  {
   "cell_type": "code",
   "execution_count": 41,
   "id": "2187d017-24c4-4dac-a5de-a4c8c3a38ced",
   "metadata": {},
   "outputs": [
    {
     "name": "stdin",
     "output_type": "stream",
     "text": [
      " 2\n"
     ]
    },
    {
     "name": "stdout",
     "output_type": "stream",
     "text": [
      "2*0=0\n",
      "2*1=2\n",
      "2*2=4\n",
      "2*3=6\n",
      "2*4=8\n",
      "2*5=10\n",
      "2*6=12\n",
      "2*7=14\n",
      "2*8=16\n",
      "2*9=18\n",
      "2*10=20\n"
     ]
    }
   ],
   "source": [
    "a=int(input())\n",
    "for i in range(11):\n",
    "    print(f\"{a}*{i}={a*i}\")"
   ]
  },
  {
   "cell_type": "code",
   "execution_count": null,
   "id": "d199d3c7-297e-4397-9e03-b92d1d7c13a0",
   "metadata": {},
   "outputs": [],
   "source": []
  }
 ],
 "metadata": {
  "kernelspec": {
   "display_name": "Python 3 (ipykernel)",
   "language": "python",
   "name": "python3"
  },
  "language_info": {
   "codemirror_mode": {
    "name": "ipython",
    "version": 3
   },
   "file_extension": ".py",
   "mimetype": "text/x-python",
   "name": "python",
   "nbconvert_exporter": "python",
   "pygments_lexer": "ipython3",
   "version": "3.12.7"
  }
 },
 "nbformat": 4,
 "nbformat_minor": 5
}
