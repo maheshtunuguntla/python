{
 "cells": [
  {
   "cell_type": "code",
   "execution_count": 21,
   "id": "e635e971-6e50-4372-a64d-2f19020b9e30",
   "metadata": {},
   "outputs": [
    {
     "name": "stdin",
     "output_type": "stream",
     "text": [
      "enter the input:1 1\n",
      "enter the input:2 2\n",
      "enter the input:3 3\n",
      "enter the input:4 45\n",
      "enter the input:5 6\n",
      "enter the input:6 7\n",
      "enter the input:7 9\n",
      "enter the input:8 0\n",
      "enter the input:9 4\n",
      "enter the input:10 6\n"
     ]
    },
    {
     "name": "stdout",
     "output_type": "stream",
     "text": [
      "[1, 2, 3, 45, 6, 7, 9, 0, 4, 6]\n"
     ]
    }
   ],
   "source": [
    "n=[int(input(f\"enter the input:{i+1}\")) for i in range(10)]\n",
    "print(n)"
   ]
  },
  {
   "cell_type": "code",
   "execution_count": 23,
   "id": "1aeaca12-97d5-4404-bd69-a495052df1b7",
   "metadata": {},
   "outputs": [
    {
     "name": "stdin",
     "output_type": "stream",
     "text": [
      "enter the 5 numbers 1 3 4 5 6\n"
     ]
    },
    {
     "name": "stdout",
     "output_type": "stream",
     "text": [
      "[1, 3, 4, 5, 6]\n"
     ]
    }
   ],
   "source": [
    "n= [int(x) for x in input(\"enter the 5 numbers\").split()[:5]]\n",
    "print(n)"
   ]
  },
  {
   "cell_type": "code",
   "execution_count": 41,
   "id": "8a81cc5e-f887-44af-98a8-ce7d6d20190e",
   "metadata": {},
   "outputs": [
    {
     "name": "stdin",
     "output_type": "stream",
     "text": [
      "enter the table size  4\n"
     ]
    },
    {
     "name": "stdout",
     "output_type": "stream",
     "text": [
      "[[1, 2, 3, 4], [2, 4, 6, 8], [3, 6, 9, 12], [4, 8, 12, 16]]\n",
      "[1, 2, 3, 4]\n",
      "[2, 4, 6, 8]\n",
      "[3, 6, 9, 12]\n",
      "[4, 8, 12, 16]\n"
     ]
    }
   ],
   "source": [
    "n=int(input(\"enter the table size \"))\n",
    "table=[[i*j for j in range(1,n+1)] for i in range(1,n+1)]\n",
    "print(table)\n",
    "for row in table:\n",
    "    print(row)"
   ]
  },
  {
   "cell_type": "code",
   "execution_count": 43,
   "id": "6700352d-293e-46db-a716-df0b0c3d416b",
   "metadata": {},
   "outputs": [
    {
     "name": "stdin",
     "output_type": "stream",
     "text": [
      "enter the size 4\n",
      "enter the nums 16 with spaces 1 2 3 4 5 6 7 8 9 1 2 3 4 5 7\n"
     ]
    },
    {
     "ename": "IndexError",
     "evalue": "list index out of range",
     "output_type": "error",
     "traceback": [
      "\u001b[31m---------------------------------------------------------------------------\u001b[39m",
      "\u001b[31mIndexError\u001b[39m                                Traceback (most recent call last)",
      "\u001b[36mCell\u001b[39m\u001b[36m \u001b[39m\u001b[32mIn[43]\u001b[39m\u001b[32m, line 5\u001b[39m\n\u001b[32m      3\u001b[39m n=\u001b[38;5;28mint\u001b[39m(\u001b[38;5;28minput\u001b[39m(\u001b[33m\"\u001b[39m\u001b[33menter the size\u001b[39m\u001b[33m\"\u001b[39m))\n\u001b[32m      4\u001b[39m nums=[\u001b[38;5;28mint\u001b[39m(x) \u001b[38;5;28;01mfor\u001b[39;00m x \u001b[38;5;129;01min\u001b[39;00m \u001b[38;5;28minput\u001b[39m(\u001b[33m\"\u001b[39m\u001b[33menter the nums 16 with spaces\u001b[39m\u001b[33m\"\u001b[39m).split()[:\u001b[32m16\u001b[39m]]\n\u001b[32m----> \u001b[39m\u001b[32m5\u001b[39m matrix=[[\u001b[43mnums\u001b[49m\u001b[43m[\u001b[49m\u001b[43mi\u001b[49m\u001b[43m*\u001b[49m\u001b[32;43m4\u001b[39;49m\u001b[43m+\u001b[49m\u001b[43mj\u001b[49m\u001b[43m]\u001b[49m \u001b[38;5;28;01mfor\u001b[39;00m j \u001b[38;5;129;01min\u001b[39;00m \u001b[38;5;28mrange\u001b[39m(n+\u001b[32m1\u001b[39m) \u001b[38;5;28;01mfor\u001b[39;00m i \u001b[38;5;129;01min\u001b[39;00m \u001b[38;5;28mrange\u001b[39m(n+\u001b[32m1\u001b[39m)]]\n\u001b[32m      6\u001b[39m \u001b[38;5;28;01mfor\u001b[39;00m rows \u001b[38;5;129;01min\u001b[39;00m matrix:\n\u001b[32m      7\u001b[39m     \u001b[38;5;28mprint\u001b[39m(row)\n",
      "\u001b[31mIndexError\u001b[39m: list index out of range"
     ]
    }
   ],
   "source": [
    "''' create a nxn matrix with manual inputs  numbers by input seperated spaces print all the '''\n",
    "n=input(\"enter the num with space\").split()\n",
    "if len(n)!=9:\n",
    "    print(\"exactly 9 numbers\")\n",
    "else:\n",
    "    numbers=[int(x) for x in n]\n",
    "    matrix=[[numbers[i*3+j] for j in range(3)] for i in range(3)]\n",
    "    transpose=[[numbers[i*3+j] for i in range(3)] for j in range(3)]\n",
    "for r in transpose:\n",
    "    print(r)"
   ]
  },
  {
   "cell_type": "code",
   "execution_count": 45,
   "id": "ce44ef55-bbfd-44ba-8d69-aaa980af1ac0",
   "metadata": {},
   "outputs": [
    {
     "name": "stdin",
     "output_type": "stream",
     "text": [
      "enter the num with space 1 2 3 4 5 6 7 8 9\n"
     ]
    },
    {
     "name": "stdout",
     "output_type": "stream",
     "text": [
      "[1, 4, 7]\n",
      "[2, 5, 8]\n",
      "[3, 6, 9]\n"
     ]
    }
   ],
   "source": [
    "n=input(\"enter the num with space\").split()\n",
    "if len(n)!=9:\n",
    "    print(\"exactly 9 numbers\")\n",
    "else:\n",
    "    numbers=[int(x) for x in n]\n",
    "    matrix=[[numbers[i*3+j] for j in range(3)] for i in range(3)]\n",
    "    transpose=[[numbers[i*3+j] for i in range(3)] for j in range(3)]\n",
    "for r in transpose:\n",
    "    print(r)"
   ]
  },
  {
   "cell_type": "code",
   "execution_count": 1,
   "id": "1f426d00-fc24-4111-8e52-3f8c5ff45c35",
   "metadata": {},
   "outputs": [
    {
     "name": "stdin",
     "output_type": "stream",
     "text": [
      "enter the size 4\n",
      "enter the numbers 1 2 3 4 5 6 7 8 9 1 2 3 4 5 6 7\n"
     ]
    },
    {
     "name": "stdout",
     "output_type": "stream",
     "text": [
      "[1, 2, 3, 4]\n",
      "[5, 6, 7, 8]\n",
      "[9, 1, 2, 3]\n",
      "[4, 5, 6, 7]\n",
      "[1, 2, 3, 4, 5, 6, 7, 8, 9, 1, 2, 3, 4, 5, 6, 7]\n"
     ]
    }
   ],
   "source": [
    "n=int(input(\"enter the size\"))\n",
    "num=[int(x) for x in input(\"enter the numbers\").split()[:n*n]]\n",
    "mat=[[num[i*n+j] for j in range(n)] for i in range(n)]\n",
    "for k in mat:\n",
    "    print(k)\n",
    "flat=[k for r in mat for k in r ]\n",
    "print(flat)"
   ]
  },
  {
   "cell_type": "code",
   "execution_count": 1,
   "id": "ff41c439-7fd6-4571-812c-72f5c1e1aab1",
   "metadata": {},
   "outputs": [
    {
     "name": "stdin",
     "output_type": "stream",
     "text": [
      "enter the size 2\n",
      "enter the numbers 1 2 3 4\n"
     ]
    },
    {
     "name": "stdout",
     "output_type": "stream",
     "text": [
      "[1, 4]\n",
      "[9, 16]\n"
     ]
    }
   ],
   "source": [
    "n=int(input(\"enter the size\"))\n",
    "num=[int(x) for x in input(\"enter the numbers\").split()[:n*n]]\n",
    "mat=[[num[i*n+j]**2 for j in range(n)] for i in range(n)]\n",
    "for k in mat:\n",
    "    print(k)"
   ]
  },
  {
   "cell_type": "code",
   "execution_count": 15,
   "id": "cd73f3ec-39f2-4f21-a26a-1628d0bfbe42",
   "metadata": {},
   "outputs": [
    {
     "name": "stdin",
     "output_type": "stream",
     "text": [
      "enter the size 3\n",
      "enter the numbers 1 2 3 4 5 6 7 8 9\n"
     ]
    },
    {
     "name": "stdout",
     "output_type": "stream",
     "text": [
      "[0, 2, 0]\n",
      "[4, 0, 6]\n",
      "[0, 8, 0]\n"
     ]
    }
   ],
   "source": [
    "n=int(input(\"enter the size\"))\n",
    "num=[int(x) for x in input(\"enter the numbers\").split()[:n*n]]\n",
    "mat=[[num[i*n+j]  if num[i*n+j]%2==0 else 0 for j in range(n)] for i in range(n)]\n",
    "for k in mat:\n",
    "    print(k)"
   ]
  },
  {
   "cell_type": "code",
   "execution_count": 17,
   "id": "3d89725d-784a-404f-96c9-a10d0de3fa9b",
   "metadata": {},
   "outputs": [
    {
     "name": "stdin",
     "output_type": "stream",
     "text": [
      "enter the size 3 \n",
      "enter the numbers 1 2 3 4 5 6 7 8 9\n"
     ]
    },
    {
     "name": "stdout",
     "output_type": "stream",
     "text": [
      "[1, 0, 3]\n",
      "[0, 5, 0]\n",
      "[7, 0, 9]\n"
     ]
    }
   ],
   "source": [
    "n=int(input(\"enter the size\"))\n",
    "num=[int(x) for x in input(\"enter the numbers\").split()[:n*n]]\n",
    "mat=[[num[i*n+j]  if num[i*n+j]%2!=0 else 0 for j in range(n)] for i in range(n)]\n",
    "for k in mat:\n",
    "    print(k)"
   ]
  },
  {
   "cell_type": "code",
   "execution_count": 31,
   "id": "b37fe7c4-e192-4793-9e91-9b2c29b90e0e",
   "metadata": {},
   "outputs": [
    {
     "name": "stdin",
     "output_type": "stream",
     "text": [
      "enter the size 3\n",
      "enter the numbers 1 2 3 4 5 6 7 8 9\n"
     ]
    },
    {
     "name": "stdout",
     "output_type": "stream",
     "text": [
      "[0, 1, 0]\n",
      "[1, 0, 1]\n",
      "[0, 1, 0]\n"
     ]
    }
   ],
   "source": [
    "n=int(input(\"enter the size\"))\n",
    "num=[int(x) for x in input(\"enter the numbers\").split()[:n*n]]\n",
    "mat=[[ 1 if num[i*n+j]%2==0 else 0 for j in range(n)] for i in range(n)]\n",
    "for k in mat:\n",
    "    print(k)"
   ]
  },
  {
   "cell_type": "code",
   "execution_count": 33,
   "id": "c0911b92-3b3b-4914-818f-207a664dc39e",
   "metadata": {},
   "outputs": [
    {
     "name": "stdin",
     "output_type": "stream",
     "text": [
      "enter the size 3\n",
      "enter the numbers 1 2 3 4 5 6 7 8 9\n"
     ]
    },
    {
     "name": "stdout",
     "output_type": "stream",
     "text": [
      "[1, 0, 1]\n",
      "[0, 1, 0]\n",
      "[1, 0, 1]\n"
     ]
    }
   ],
   "source": [
    "n=int(input(\"enter the size\"))\n",
    "num=[int(x) for x in input(\"enter the numbers\").split()[:n*n]]\n",
    "mat=[[ 1 if num[i*n+j]%2!=0 else 0 for j in range(n)] for i in range(n)]\n",
    "for k in mat:\n",
    "    print(k)"
   ]
  },
  {
   "cell_type": "code",
   "execution_count": null,
   "id": "fae8f481-4be3-4b06-b328-68d213eb5e81",
   "metadata": {},
   "outputs": [],
   "source": []
  }
 ],
 "metadata": {
  "kernelspec": {
   "display_name": "Python 3 (ipykernel)",
   "language": "python",
   "name": "python3"
  },
  "language_info": {
   "codemirror_mode": {
    "name": "ipython",
    "version": 3
   },
   "file_extension": ".py",
   "mimetype": "text/x-python",
   "name": "python",
   "nbconvert_exporter": "python",
   "pygments_lexer": "ipython3",
   "version": "3.12.7"
  }
 },
 "nbformat": 4,
 "nbformat_minor": 5
}
