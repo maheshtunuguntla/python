{
 "cells": [
  {
   "cell_type": "code",
   "execution_count": 1,
   "id": "cbca07cd-31e8-452b-ad2b-901a179c3005",
   "metadata": {},
   "outputs": [
    {
     "name": "stdout",
     "output_type": "stream",
     "text": [
      "hello\n"
     ]
    }
   ],
   "source": [
    "#user defined functions\n",
    "def hi():\n",
    "    print(\"hello\")\n",
    "hi()"
   ]
  },
  {
   "cell_type": "code",
   "execution_count": 5,
   "id": "9eef5e87-c777-46fc-9a7a-c9414087c2c5",
   "metadata": {},
   "outputs": [
    {
     "name": "stdin",
     "output_type": "stream",
     "text": [
      "enter the values of a: 5\n",
      "enter the value of b: 5\n"
     ]
    },
    {
     "name": "stdout",
     "output_type": "stream",
     "text": [
      "sum of two numbers 10\n"
     ]
    }
   ],
   "source": [
    "#user defined function with arguments\n",
    "\n",
    "def summate(a,b):\n",
    "    print(\"sum of two numbers\",a+b)\n",
    "a=int(input(\"enter the values of a:\"))\n",
    "b=int(input(\"enter the value of b:\"))\n",
    "summate(a,b)"
   ]
  },
  {
   "cell_type": "code",
   "execution_count": null,
   "id": "cbbedd32-742b-4f14-8a39-b271b376ccb6",
   "metadata": {},
   "outputs": [],
   "source": [
    "def summate(a,b):\n",
    "   return x+y\n",
    "a=int(input(\"enter the values of a:\"))\n",
    "b=int(input(\"enter the value of b:\"))\n",
    "result=summate(a,b)\n",
    "print(result)"
   ]
  },
  {
   "cell_type": "code",
   "execution_count": 9,
   "id": "af02429d-57cf-4fd9-ad38-317e8a262e47",
   "metadata": {},
   "outputs": [
    {
     "name": "stdin",
     "output_type": "stream",
     "text": [
      "enter the base value  5\n"
     ]
    },
    {
     "name": "stdout",
     "output_type": "stream",
     "text": [
      "25\n",
      "125\n"
     ]
    }
   ],
   "source": [
    "def power(base,expo=2):\n",
    "    return base**expo\n",
    "num=int(input(\"enter the base value \"))\n",
    "print(power(num))\n",
    "print(power(num,3))"
   ]
  },
  {
   "cell_type": "code",
   "execution_count": 15,
   "id": "86715578-ae3b-49ce-90cb-90d3344768c1",
   "metadata": {},
   "outputs": [
    {
     "name": "stdin",
     "output_type": "stream",
     "text": [
      " 5\n",
      " 4\n"
     ]
    },
    {
     "name": "stdout",
     "output_type": "stream",
     "text": [
      "sum 9\n",
      "diff 1\n",
      "mul 20\n"
     ]
    }
   ],
   "source": [
    "#multiple return values from single function\n",
    "def operate(a,b):\n",
    "    return a+b,a-b,a*b\n",
    "a=int(input())\n",
    "b=int(input())\n",
    "sum,diff,mul=operate(a,b)\n",
    "print(\"sum\",sum)\n",
    "print(\"diff\",diff)\n",
    "print(\"mul\",mul)"
   ]
  },
  {
   "cell_type": "code",
   "execution_count": 21,
   "id": "4d2c615a-ac82-4970-8a7c-37343f46c022",
   "metadata": {},
   "outputs": [
    {
     "name": "stdin",
     "output_type": "stream",
     "text": [
      " 5\n"
     ]
    },
    {
     "name": "stdout",
     "output_type": "stream",
     "text": [
      "25\n"
     ]
    }
   ],
   "source": [
    "#anonumous function lambda\n",
    "lambda var:operation\n",
    "num=int(input())\n",
    "square=lambda num:num*num\n",
    "print(square(num))"
   ]
  },
  {
   "cell_type": "code",
   "execution_count": 23,
   "id": "6f26f367-56f8-4c78-9b4a-bfb5b6689bbd",
   "metadata": {},
   "outputs": [
    {
     "name": "stdout",
     "output_type": "stream",
     "text": [
      "outer function\n",
      "inner function\n"
     ]
    }
   ],
   "source": [
    "#nested functions\n",
    "def hi():\n",
    "    def  hello():\n",
    "        print(\"inner function\")\n",
    "    print(\"outer function\")\n",
    "    hello()\n",
    "hi()"
   ]
  },
  {
   "cell_type": "code",
   "execution_count": 25,
   "id": "bb95f889-3ae4-4038-9d31-9be963ab1aae",
   "metadata": {},
   "outputs": [
    {
     "name": "stdin",
     "output_type": "stream",
     "text": [
      "enter the a value 4\n",
      "enter the b valuue 5\n"
     ]
    },
    {
     "name": "stdout",
     "output_type": "stream",
     "text": [
      "addition 9\n",
      "subtraction -1\n"
     ]
    }
   ],
   "source": [
    "#nested function\n",
    "def operation(a,b):\n",
    "    def add():\n",
    "        return a+b\n",
    "    def sub():\n",
    "        return a-b\n",
    "    print(\"addition\",add())\n",
    "    print(\"subtraction\",sub())\n",
    "a=int(input(\"enter the a value\"))\n",
    "b=int(input(\"enter the b valuue\"))\n",
    "operation(a,b)"
   ]
  },
  {
   "cell_type": "code",
   "execution_count": 41,
   "id": "3a3c9d6d-e471-4d41-8574-c00f50d7d2f2",
   "metadata": {},
   "outputs": [
    {
     "name": "stdin",
     "output_type": "stream",
     "text": [
      " 5\n"
     ]
    },
    {
     "ename": "TypeError",
     "evalue": "'int' object is not callable",
     "output_type": "error",
     "traceback": [
      "\u001b[1;31m---------------------------------------------------------------------------\u001b[0m",
      "\u001b[1;31mTypeError\u001b[0m                                 Traceback (most recent call last)",
      "Cell \u001b[1;32mIn[41], line 8\u001b[0m\n\u001b[0;32m      6\u001b[0m     \u001b[38;5;28mprint\u001b[39m(\u001b[38;5;124m\"\u001b[39m\u001b[38;5;124mgive another value\u001b[39m\u001b[38;5;124m\"\u001b[39m)\n\u001b[0;32m      7\u001b[0m \u001b[38;5;28;01melse\u001b[39;00m:\n\u001b[1;32m----> 8\u001b[0m     s\u001b[38;5;241m=\u001b[39ma\u001b[38;5;241m*\u001b[39ms(a\u001b[38;5;241m-\u001b[39m\u001b[38;5;241m1\u001b[39m)\n\u001b[0;32m      9\u001b[0m     \u001b[38;5;28mprint\u001b[39m(s)\n",
      "\u001b[1;31mTypeError\u001b[0m: 'int' object is not callable"
     ]
    }
   ],
   "source": []
  },
  {
   "cell_type": "code",
   "execution_count": null,
   "id": "4b260514-8828-4fed-9e57-1f8567dd76fb",
   "metadata": {},
   "outputs": [],
   "source": []
  }
 ],
 "metadata": {
  "kernelspec": {
   "display_name": "Python 3 (ipykernel)",
   "language": "python",
   "name": "python3"
  },
  "language_info": {
   "codemirror_mode": {
    "name": "ipython",
    "version": 3
   },
   "file_extension": ".py",
   "mimetype": "text/x-python",
   "name": "python",
   "nbconvert_exporter": "python",
   "pygments_lexer": "ipython3",
   "version": "3.12.7"
  }
 },
 "nbformat": 4,
 "nbformat_minor": 5
}
